{
 "cells": [
  {
   "cell_type": "code",
   "execution_count": null,
   "id": "e615139a",
   "metadata": {},
   "outputs": [],
   "source": [
    "from financialRatiosModule.Sector_PropDev import financialData_propDev"
   ]
  },
  {
   "cell_type": "code",
   "execution_count": null,
   "id": "f7aeb707",
   "metadata": {},
   "outputs": [],
   "source": [
    "UOADev = financialData_propDev(\"uniqueItemsFromAnnualReports_UOADev.xlsx\", \"Main\", 0)\n",
    "UOADev.getInput()"
   ]
  },
  {
   "cell_type": "code",
   "execution_count": null,
   "id": "372bdbd2",
   "metadata": {},
   "outputs": [],
   "source": [
    "UOADev.analyze_propDev()"
   ]
  },
  {
   "cell_type": "code",
   "execution_count": null,
   "id": "02d31b88",
   "metadata": {},
   "outputs": [],
   "source": [
    "UOADev.getFinancialRatios()"
   ]
  },
  {
   "cell_type": "code",
   "execution_count": null,
   "id": "15a3aa3f",
   "metadata": {},
   "outputs": [],
   "source": [
    "UOADev.writeOut(\"FR_UOADev_PropDev\")"
   ]
  },
  {
   "cell_type": "code",
   "execution_count": null,
   "id": "85769f14",
   "metadata": {},
   "outputs": [],
   "source": [
    "UOADev.getFinancialRatios()"
   ]
  }
 ],
 "metadata": {
  "kernelspec": {
   "display_name": "Python 3",
   "language": "python",
   "name": "python3"
  },
  "language_info": {
   "codemirror_mode": {
    "name": "ipython",
    "version": 3
   },
   "file_extension": ".py",
   "mimetype": "text/x-python",
   "name": "python",
   "nbconvert_exporter": "python",
   "pygments_lexer": "ipython3",
   "version": "3.8.8"
  }
 },
 "nbformat": 4,
 "nbformat_minor": 5
}

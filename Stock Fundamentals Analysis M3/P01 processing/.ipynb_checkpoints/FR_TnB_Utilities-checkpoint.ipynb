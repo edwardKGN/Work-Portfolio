{
 "cells": [
  {
   "cell_type": "code",
   "execution_count": 1,
   "id": "0c45f9e4",
   "metadata": {},
   "outputs": [
    {
     "ename": "ModuleNotFoundError",
     "evalue": "No module named 'financialRatiosModule.sectorFinance'",
     "output_type": "error",
     "traceback": [
      "\u001b[1;31m---------------------------------------------------------------------------\u001b[0m",
      "\u001b[1;31mModuleNotFoundError\u001b[0m                       Traceback (most recent call last)",
      "\u001b[1;32m<ipython-input-1-cfebccbb4bce>\u001b[0m in \u001b[0;36m<module>\u001b[1;34m\u001b[0m\n\u001b[1;32m----> 1\u001b[1;33m \u001b[1;32mfrom\u001b[0m \u001b[0mfinancialRatiosModule\u001b[0m\u001b[1;33m.\u001b[0m\u001b[0msectorFinance\u001b[0m \u001b[1;32mimport\u001b[0m \u001b[0mfinancialData_utilities\u001b[0m\u001b[1;33m\u001b[0m\u001b[1;33m\u001b[0m\u001b[0m\n\u001b[0m",
      "\u001b[1;31mModuleNotFoundError\u001b[0m: No module named 'financialRatiosModule.sectorFinance'"
     ]
    }
   ],
   "source": [
    "from financialRatiosModule.Sector_Utilities import financialData_utilities"
   ]
  },
  {
   "cell_type": "code",
   "execution_count": null,
   "id": "41db7262",
   "metadata": {},
   "outputs": [],
   "source": [
    "TnB = financialData_utilities(\"uniqueItemsFromAnnualReports_TnB_Utilities.xlsx\", \"Main\", 0)\n",
    "TnB.getInput()"
   ]
  },
  {
   "cell_type": "code",
   "execution_count": null,
   "id": "1e1f4817",
   "metadata": {},
   "outputs": [],
   "source": [
    "TnB.analyze_utilities()"
   ]
  },
  {
   "cell_type": "code",
   "execution_count": null,
   "id": "05b512f4",
   "metadata": {},
   "outputs": [],
   "source": [
    "TnB.getFinancialRatios()"
   ]
  },
  {
   "cell_type": "code",
   "execution_count": null,
   "id": "7bb4290d",
   "metadata": {},
   "outputs": [],
   "source": [
    "TnB.writeOut(\"FR_TnB_Utilities\")"
   ]
  },
  {
   "cell_type": "code",
   "execution_count": null,
   "id": "06a2686a",
   "metadata": {},
   "outputs": [],
   "source": [
    "TnB.getFinancialRatios()"
   ]
  }
 ],
 "metadata": {
  "kernelspec": {
   "display_name": "Python 3",
   "language": "python",
   "name": "python3"
  },
  "language_info": {
   "codemirror_mode": {
    "name": "ipython",
    "version": 3
   },
   "file_extension": ".py",
   "mimetype": "text/x-python",
   "name": "python",
   "nbconvert_exporter": "python",
   "pygments_lexer": "ipython3",
   "version": "3.8.8"
  }
 },
 "nbformat": 4,
 "nbformat_minor": 5
}

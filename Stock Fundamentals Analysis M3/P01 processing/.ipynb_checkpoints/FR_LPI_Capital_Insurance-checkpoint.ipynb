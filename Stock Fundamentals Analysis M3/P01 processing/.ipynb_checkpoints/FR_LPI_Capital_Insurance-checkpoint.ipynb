{
 "cells": [
  {
   "cell_type": "code",
   "execution_count": null,
   "id": "2340ef2e",
   "metadata": {},
   "outputs": [],
   "source": [
    "from financialRatiosModule.Sector_Insurance import financialData_insurance"
   ]
  },
  {
   "cell_type": "code",
   "execution_count": null,
   "id": "d9ec2cba",
   "metadata": {},
   "outputs": [],
   "source": [
    "LPI_Capital = financialData_insurance(\"uniqueItemsFromAnnualReports_LPI_Capital_Insurance.xlsx\", \"Main\", 0)\n",
    "LPI_Capital.getInput()"
   ]
  },
  {
   "cell_type": "code",
   "execution_count": null,
   "id": "595a4fb6",
   "metadata": {},
   "outputs": [],
   "source": [
    "LPI_Capital.analyze_insurance()"
   ]
  },
  {
   "cell_type": "code",
   "execution_count": null,
   "id": "2c36f7e6",
   "metadata": {},
   "outputs": [],
   "source": [
    "LPI_Capital.getFinancialRatios()"
   ]
  },
  {
   "cell_type": "code",
   "execution_count": null,
   "id": "6db3ea16",
   "metadata": {},
   "outputs": [],
   "source": [
    "LPI_Capital.writeOut(\"FR_LPI_Capital_Insurance\")"
   ]
  },
  {
   "cell_type": "code",
   "execution_count": null,
   "id": "702be6d1",
   "metadata": {},
   "outputs": [],
   "source": [
    "LPI_Capital.getFinancialRatios()"
   ]
  }
 ],
 "metadata": {
  "kernelspec": {
   "display_name": "Python 3",
   "language": "python",
   "name": "python3"
  },
  "language_info": {
   "codemirror_mode": {
    "name": "ipython",
    "version": 3
   },
   "file_extension": ".py",
   "mimetype": "text/x-python",
   "name": "python",
   "nbconvert_exporter": "python",
   "pygments_lexer": "ipython3",
   "version": "3.8.8"
  }
 },
 "nbformat": 4,
 "nbformat_minor": 5
}

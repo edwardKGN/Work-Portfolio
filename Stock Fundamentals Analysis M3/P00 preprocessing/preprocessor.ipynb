{
 "cells": [
  {
   "cell_type": "markdown",
   "id": "f14ef976",
   "metadata": {},
   "source": [
    "# Converts Raw Data to Processible form"
   ]
  }
 ],
 "metadata": {
  "kernelspec": {
   "display_name": "Python 3",
   "language": "python",
   "name": "python3"
  },
  "language_info": {
   "codemirror_mode": {
    "name": "ipython",
    "version": 3
   },
   "file_extension": ".py",
   "mimetype": "text/x-python",
   "name": "python",
   "nbconvert_exporter": "python",
   "pygments_lexer": "ipython3",
   "version": "3.8.8"
  }
 },
 "nbformat": 4,
 "nbformat_minor": 5
}

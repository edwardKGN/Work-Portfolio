{
 "cells": [
  {
   "cell_type": "code",
   "execution_count": null,
   "id": "b9312653",
   "metadata": {},
   "outputs": [],
   "source": [
    "from analysisModule.sectorAnalysis_finance import sectorAnalysis_finance"
   ]
  },
  {
   "cell_type": "code",
   "execution_count": null,
   "id": "a58ccbad",
   "metadata": {},
   "outputs": [],
   "source": [
    "A = sectorAnalysis_finance(\"FR_A_Finance\", \"output\", 0)\n",
    "A.getFinancialRatios()"
   ]
  },
  {
   "cell_type": "code",
   "execution_count": null,
   "id": "2de8bd9a",
   "metadata": {},
   "outputs": [],
   "source": [
    "A.analyse_finance()"
   ]
  },
  {
   "cell_type": "code",
   "execution_count": null,
   "id": "4be391af",
   "metadata": {},
   "outputs": [],
   "source": [
    "A.getAnalysis(0)"
   ]
  },
  {
   "cell_type": "code",
   "execution_count": null,
   "id": "301de7ec",
   "metadata": {},
   "outputs": [],
   "source": [
    "A.getAnalysis(1)"
   ]
  },
  {
   "cell_type": "code",
   "execution_count": null,
   "id": "d8c874b2",
   "metadata": {},
   "outputs": [],
   "source": [
    "A.writeOut(\"FA_A_Finance\")"
   ]
  }
 ],
 "metadata": {
  "kernelspec": {
   "display_name": "Python 3",
   "language": "python",
   "name": "python3"
  },
  "language_info": {
   "codemirror_mode": {
    "name": "ipython",
    "version": 3
   },
   "file_extension": ".py",
   "mimetype": "text/x-python",
   "name": "python",
   "nbconvert_exporter": "python",
   "pygments_lexer": "ipython3",
   "version": "3.8.8"
  }
 },
 "nbformat": 4,
 "nbformat_minor": 5
}

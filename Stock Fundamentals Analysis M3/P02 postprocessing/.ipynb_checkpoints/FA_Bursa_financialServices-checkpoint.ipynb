{
 "cells": [
  {
   "cell_type": "code",
   "execution_count": 1,
   "id": "78973fbe",
   "metadata": {},
   "outputs": [
    {
     "ename": "ImportError",
     "evalue": "cannot import name 'sectorAnalysis_financeServices' from 'analysisModule.sectorAnalysis_financeServices' (C:\\Users\\edwar\\Python\\Stock Fundamentals Analysis M3\\P02 postprocessing\\analysisModule\\sectorAnalysis_financeServices.py)",
     "output_type": "error",
     "traceback": [
      "\u001b[1;31m---------------------------------------------------------------------------\u001b[0m",
      "\u001b[1;31mImportError\u001b[0m                               Traceback (most recent call last)",
      "\u001b[1;32m<ipython-input-1-33c64ab4608b>\u001b[0m in \u001b[0;36m<module>\u001b[1;34m\u001b[0m\n\u001b[1;32m----> 1\u001b[1;33m \u001b[1;32mfrom\u001b[0m \u001b[0manalysisModule\u001b[0m\u001b[1;33m.\u001b[0m\u001b[0msectorAnalysis_financeServices\u001b[0m \u001b[1;32mimport\u001b[0m \u001b[0msectorAnalysis_financeServices\u001b[0m\u001b[1;33m\u001b[0m\u001b[1;33m\u001b[0m\u001b[0m\n\u001b[0m",
      "\u001b[1;31mImportError\u001b[0m: cannot import name 'sectorAnalysis_financeServices' from 'analysisModule.sectorAnalysis_financeServices' (C:\\Users\\edwar\\Python\\Stock Fundamentals Analysis M3\\P02 postprocessing\\analysisModule\\sectorAnalysis_financeServices.py)"
     ]
    }
   ],
   "source": [
    "from analysisModule.sectorAnalysis_financialServices import sectorAnalysis_financialServices"
   ]
  },
  {
   "cell_type": "code",
   "execution_count": null,
   "id": "bf2655d8",
   "metadata": {},
   "outputs": [],
   "source": [
    "bursa = sectorAnalysis_financialServices(\"FR_Bursa_financialServices.xlsx\", \"output\", 0)\n",
    "bursa.getFinancialRatios()"
   ]
  },
  {
   "cell_type": "code",
   "execution_count": null,
   "id": "ff3a7c17",
   "metadata": {},
   "outputs": [],
   "source": [
    "bursa.analyse_financialServices()"
   ]
  },
  {
   "cell_type": "code",
   "execution_count": null,
   "id": "a7f5f30f",
   "metadata": {},
   "outputs": [],
   "source": [
    "bursa.getAnalysis(0)"
   ]
  },
  {
   "cell_type": "code",
   "execution_count": null,
   "id": "2205e014",
   "metadata": {},
   "outputs": [],
   "source": [
    "bursa.getAnalysis(1)"
   ]
  },
  {
   "cell_type": "code",
   "execution_count": null,
   "id": "072b6003",
   "metadata": {},
   "outputs": [],
   "source": [
    "bursa.writeOut(\"FA_Bursa_financialServices\")"
   ]
  }
 ],
 "metadata": {
  "kernelspec": {
   "display_name": "Python 3",
   "language": "python",
   "name": "python3"
  },
  "language_info": {
   "codemirror_mode": {
    "name": "ipython",
    "version": 3
   },
   "file_extension": ".py",
   "mimetype": "text/x-python",
   "name": "python",
   "nbconvert_exporter": "python",
   "pygments_lexer": "ipython3",
   "version": "3.8.8"
  }
 },
 "nbformat": 4,
 "nbformat_minor": 5
}

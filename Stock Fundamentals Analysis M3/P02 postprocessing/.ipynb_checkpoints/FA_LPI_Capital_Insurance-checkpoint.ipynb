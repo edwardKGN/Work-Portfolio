{
 "cells": [
  {
   "cell_type": "code",
   "execution_count": null,
   "id": "e9bc5d2e",
   "metadata": {},
   "outputs": [],
   "source": [
    "from analysisModule.sectorAnalysis_insurance import sectorAnalysis_insurance"
   ]
  },
  {
   "cell_type": "code",
   "execution_count": null,
   "id": "ca214e5b",
   "metadata": {},
   "outputs": [],
   "source": [
    "LPI_Cap = sectorAnalysis_insurance(\"FR_LPI_Capital_Insurance.xlsx\", \"output\", 0)\n",
    "LPI_Cap.getFinancialRatios()"
   ]
  }
 ],
 "metadata": {
  "kernelspec": {
   "display_name": "Python 3",
   "language": "python",
   "name": "python3"
  },
  "language_info": {
   "codemirror_mode": {
    "name": "ipython",
    "version": 3
   },
   "file_extension": ".py",
   "mimetype": "text/x-python",
   "name": "python",
   "nbconvert_exporter": "python",
   "pygments_lexer": "ipython3",
   "version": "3.8.8"
  }
 },
 "nbformat": 4,
 "nbformat_minor": 5
}

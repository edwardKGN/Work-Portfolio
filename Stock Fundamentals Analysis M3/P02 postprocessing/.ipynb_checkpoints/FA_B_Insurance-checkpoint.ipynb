{
 "cells": [
  {
   "cell_type": "code",
   "execution_count": null,
   "id": "1c4d5144",
   "metadata": {},
   "outputs": [],
   "source": [
    "from analysisModule.sectorAnalysis_insurance import sectorAnalysis_insurance"
   ]
  },
  {
   "cell_type": "code",
   "execution_count": 1,
   "id": "2d73fd02",
   "metadata": {},
   "outputs": [
    {
     "ename": "NameError",
     "evalue": "name 'sectorAnalysis_insurance' is not defined",
     "output_type": "error",
     "traceback": [
      "\u001b[1;31m---------------------------------------------------------------------------\u001b[0m",
      "\u001b[1;31mNameError\u001b[0m                                 Traceback (most recent call last)",
      "\u001b[1;32m<ipython-input-1-3a72bff00d1a>\u001b[0m in \u001b[0;36m<module>\u001b[1;34m\u001b[0m\n\u001b[1;32m----> 1\u001b[1;33m \u001b[0mB\u001b[0m \u001b[1;33m=\u001b[0m \u001b[0msectorAnalysis_insurance\u001b[0m\u001b[1;33m(\u001b[0m\u001b[1;34m\"FR_B_Insurance\"\u001b[0m\u001b[1;33m,\u001b[0m \u001b[1;33m)\u001b[0m\u001b[1;33m\u001b[0m\u001b[1;33m\u001b[0m\u001b[0m\n\u001b[0m",
      "\u001b[1;31mNameError\u001b[0m: name 'sectorAnalysis_insurance' is not defined"
     ]
    }
   ],
   "source": [
    "B = sectorAnalysis_insurance(\"FR_B_Insurance\", \"output\", 0)\n",
    "B.getFinancialRatios()"
   ]
  },
  {
   "cell_type": "code",
   "execution_count": null,
   "id": "422cef7d",
   "metadata": {},
   "outputs": [],
   "source": [
    "B.analyse_insurance()"
   ]
  },
  {
   "cell_type": "code",
   "execution_count": null,
   "id": "33d62fc5",
   "metadata": {},
   "outputs": [],
   "source": [
    "B.getAnalysis(0)"
   ]
  },
  {
   "cell_type": "code",
   "execution_count": null,
   "id": "4503799b",
   "metadata": {},
   "outputs": [],
   "source": [
    "B.getAnalysis(1)"
   ]
  },
  {
   "cell_type": "code",
   "execution_count": null,
   "id": "7af4ed33",
   "metadata": {},
   "outputs": [],
   "source": [
    "B.writeOut(\"FA_B_Insurance\")"
   ]
  }
 ],
 "metadata": {
  "kernelspec": {
   "display_name": "Python 3",
   "language": "python",
   "name": "python3"
  },
  "language_info": {
   "codemirror_mode": {
    "name": "ipython",
    "version": 3
   },
   "file_extension": ".py",
   "mimetype": "text/x-python",
   "name": "python",
   "nbconvert_exporter": "python",
   "pygments_lexer": "ipython3",
   "version": "3.8.8"
  }
 },
 "nbformat": 4,
 "nbformat_minor": 5
}

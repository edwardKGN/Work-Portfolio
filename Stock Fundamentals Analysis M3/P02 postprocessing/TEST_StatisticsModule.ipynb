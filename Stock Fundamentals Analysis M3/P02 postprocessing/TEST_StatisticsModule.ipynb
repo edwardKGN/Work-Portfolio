{
 "cells": [
  {
   "cell_type": "code",
   "execution_count": 1,
   "id": "flying-enforcement",
   "metadata": {},
   "outputs": [],
   "source": [
    "from analysisModule.statisticsModule.statisticsMod import * # Apparently it's read from the calling page"
   ]
  },
  {
   "cell_type": "code",
   "execution_count": 2,
   "id": "catholic-walter",
   "metadata": {},
   "outputs": [],
   "source": [
    "import pandas as pd "
   ]
  },
  {
   "cell_type": "code",
   "execution_count": 3,
   "id": "awful-turtle",
   "metadata": {},
   "outputs": [],
   "source": [
    "from scipy import stats"
   ]
  },
  {
   "cell_type": "code",
   "execution_count": 4,
   "id": "interested-vitamin",
   "metadata": {},
   "outputs": [
    {
     "name": "stdout",
     "output_type": "stream",
     "text": [
      "4.47213595499958\n"
     ]
    }
   ],
   "source": [
    "import math\n",
    "\n",
    "print(math.sqrt(20))\n",
    "\n",
    "#print(math.sqrt(-1)) # Error expected, since this would return an imaginary number."
   ]
  },
  {
   "cell_type": "code",
   "execution_count": 5,
   "id": "valued-jordan",
   "metadata": {},
   "outputs": [
    {
     "data": {
      "text/html": [
       "<div>\n",
       "<style scoped>\n",
       "    .dataframe tbody tr th:only-of-type {\n",
       "        vertical-align: middle;\n",
       "    }\n",
       "\n",
       "    .dataframe tbody tr th {\n",
       "        vertical-align: top;\n",
       "    }\n",
       "\n",
       "    .dataframe thead th {\n",
       "        text-align: right;\n",
       "    }\n",
       "</style>\n",
       "<table border=\"1\" class=\"dataframe\">\n",
       "  <thead>\n",
       "    <tr style=\"text-align: right;\">\n",
       "      <th></th>\n",
       "      <th>Financial Ratios</th>\n",
       "      <th>2020</th>\n",
       "      <th>2019</th>\n",
       "      <th>2018</th>\n",
       "      <th>2017</th>\n",
       "      <th>2016</th>\n",
       "    </tr>\n",
       "  </thead>\n",
       "  <tbody>\n",
       "    <tr>\n",
       "      <th>0</th>\n",
       "      <td>Price to Book</td>\n",
       "      <td>1.738185</td>\n",
       "      <td>1.784004</td>\n",
       "      <td>2.500447</td>\n",
       "      <td>2.240015</td>\n",
       "      <td>2.336864</td>\n",
       "    </tr>\n",
       "    <tr>\n",
       "      <th>1</th>\n",
       "      <td>Price to Earnings</td>\n",
       "      <td>16.214068</td>\n",
       "      <td>13.526261</td>\n",
       "      <td>17.497536</td>\n",
       "      <td>14.543232</td>\n",
       "      <td>14.533829</td>\n",
       "    </tr>\n",
       "    <tr>\n",
       "      <th>2</th>\n",
       "      <td>Return on Equity</td>\n",
       "      <td>0.104390</td>\n",
       "      <td>0.127986</td>\n",
       "      <td>0.138259</td>\n",
       "      <td>0.148455</td>\n",
       "      <td>0.153959</td>\n",
       "    </tr>\n",
       "    <tr>\n",
       "      <th>3</th>\n",
       "      <td>Return on Capital Employed</td>\n",
       "      <td>0.105244</td>\n",
       "      <td>0.116641</td>\n",
       "      <td>0.124674</td>\n",
       "      <td>0.128874</td>\n",
       "      <td>0.141937</td>\n",
       "    </tr>\n",
       "    <tr>\n",
       "      <th>4</th>\n",
       "      <td>EBITDA to Revenue Ratio</td>\n",
       "      <td>0.808750</td>\n",
       "      <td>0.801618</td>\n",
       "      <td>0.820878</td>\n",
       "      <td>0.819498</td>\n",
       "      <td>0.841076</td>\n",
       "    </tr>\n",
       "    <tr>\n",
       "      <th>5</th>\n",
       "      <td>EBITDA to Cash Conversion</td>\n",
       "      <td>0.893351</td>\n",
       "      <td>0.048683</td>\n",
       "      <td>0.656454</td>\n",
       "      <td>0.488675</td>\n",
       "      <td>0.093346</td>\n",
       "    </tr>\n",
       "    <tr>\n",
       "      <th>6</th>\n",
       "      <td>Revenue to Expense Ratio</td>\n",
       "      <td>2.596512</td>\n",
       "      <td>3.393652</td>\n",
       "      <td>1.679961</td>\n",
       "      <td>1.721880</td>\n",
       "      <td>1.663774</td>\n",
       "    </tr>\n",
       "    <tr>\n",
       "      <th>7</th>\n",
       "      <td>Current Ratio</td>\n",
       "      <td>0.215517</td>\n",
       "      <td>0.214055</td>\n",
       "      <td>0.270268</td>\n",
       "      <td>0.271616</td>\n",
       "      <td>0.287219</td>\n",
       "    </tr>\n",
       "    <tr>\n",
       "      <th>8</th>\n",
       "      <td>Cash Ratio</td>\n",
       "      <td>0.045239</td>\n",
       "      <td>0.033032</td>\n",
       "      <td>0.037101</td>\n",
       "      <td>0.038192</td>\n",
       "      <td>0.029769</td>\n",
       "    </tr>\n",
       "    <tr>\n",
       "      <th>9</th>\n",
       "      <td>Operating Cash Flow Ratio</td>\n",
       "      <td>0.038298</td>\n",
       "      <td>0.002374</td>\n",
       "      <td>0.033082</td>\n",
       "      <td>0.024733</td>\n",
       "      <td>0.004764</td>\n",
       "    </tr>\n",
       "    <tr>\n",
       "      <th>10</th>\n",
       "      <td>Cash Conversion Ratio</td>\n",
       "      <td>2.974201</td>\n",
       "      <td>0.157058</td>\n",
       "      <td>2.096701</td>\n",
       "      <td>1.505871</td>\n",
       "      <td>0.299630</td>\n",
       "    </tr>\n",
       "    <tr>\n",
       "      <th>11</th>\n",
       "      <td>Dividend Yield</td>\n",
       "      <td>0.031553</td>\n",
       "      <td>0.037532</td>\n",
       "      <td>0.027879</td>\n",
       "      <td>0.029327</td>\n",
       "      <td>0.029442</td>\n",
       "    </tr>\n",
       "    <tr>\n",
       "      <th>12</th>\n",
       "      <td>Dividend Coverage Ratio</td>\n",
       "      <td>1.954618</td>\n",
       "      <td>1.969786</td>\n",
       "      <td>2.049978</td>\n",
       "      <td>2.344621</td>\n",
       "      <td>2.336997</td>\n",
       "    </tr>\n",
       "    <tr>\n",
       "      <th>13</th>\n",
       "      <td>Dividend Payout Ratio</td>\n",
       "      <td>0.511609</td>\n",
       "      <td>0.507669</td>\n",
       "      <td>0.487810</td>\n",
       "      <td>0.426508</td>\n",
       "      <td>0.427900</td>\n",
       "    </tr>\n",
       "    <tr>\n",
       "      <th>14</th>\n",
       "      <td>Net Interest Margin</td>\n",
       "      <td>0.015996</td>\n",
       "      <td>0.017273</td>\n",
       "      <td>0.018126</td>\n",
       "      <td>0.018881</td>\n",
       "      <td>0.018335</td>\n",
       "    </tr>\n",
       "    <tr>\n",
       "      <th>15</th>\n",
       "      <td>Net Non-Interest Margin</td>\n",
       "      <td>-0.000500</td>\n",
       "      <td>-0.000741</td>\n",
       "      <td>-0.000812</td>\n",
       "      <td>-0.000481</td>\n",
       "      <td>-0.000661</td>\n",
       "    </tr>\n",
       "    <tr>\n",
       "      <th>16</th>\n",
       "      <td>Return on Assets</td>\n",
       "      <td>0.010989</td>\n",
       "      <td>0.012964</td>\n",
       "      <td>0.013577</td>\n",
       "      <td>0.014120</td>\n",
       "      <td>0.013955</td>\n",
       "    </tr>\n",
       "    <tr>\n",
       "      <th>17</th>\n",
       "      <td>CASA Ratio</td>\n",
       "      <td>1.283507</td>\n",
       "      <td>1.354409</td>\n",
       "      <td>1.350717</td>\n",
       "      <td>1.340891</td>\n",
       "      <td>1.398996</td>\n",
       "    </tr>\n",
       "    <tr>\n",
       "      <th>18</th>\n",
       "      <td>Net Bank Operating Margin</td>\n",
       "      <td>0.014180</td>\n",
       "      <td>0.022479</td>\n",
       "      <td>0.007528</td>\n",
       "      <td>0.008056</td>\n",
       "      <td>0.007908</td>\n",
       "    </tr>\n",
       "    <tr>\n",
       "      <th>19</th>\n",
       "      <td>Net Profit Margin</td>\n",
       "      <td>0.347728</td>\n",
       "      <td>0.342482</td>\n",
       "      <td>0.348370</td>\n",
       "      <td>0.363060</td>\n",
       "      <td>0.349589</td>\n",
       "    </tr>\n",
       "    <tr>\n",
       "      <th>20</th>\n",
       "      <td>Asset Utilization</td>\n",
       "      <td>0.031602</td>\n",
       "      <td>0.037852</td>\n",
       "      <td>0.038973</td>\n",
       "      <td>0.038892</td>\n",
       "      <td>0.039919</td>\n",
       "    </tr>\n",
       "    <tr>\n",
       "      <th>21</th>\n",
       "      <td>Efficiency Ratio</td>\n",
       "      <td>0.231140</td>\n",
       "      <td>0.205411</td>\n",
       "      <td>0.200627</td>\n",
       "      <td>0.203868</td>\n",
       "      <td>0.195769</td>\n",
       "    </tr>\n",
       "    <tr>\n",
       "      <th>22</th>\n",
       "      <td>Operating Efficiency Ratio</td>\n",
       "      <td>0.551295</td>\n",
       "      <td>0.406151</td>\n",
       "      <td>0.806854</td>\n",
       "      <td>0.792857</td>\n",
       "      <td>0.801898</td>\n",
       "    </tr>\n",
       "    <tr>\n",
       "      <th>23</th>\n",
       "      <td>Credit to Deposit Ratio</td>\n",
       "      <td>0.917789</td>\n",
       "      <td>0.913314</td>\n",
       "      <td>0.910104</td>\n",
       "      <td>0.920618</td>\n",
       "      <td>0.913528</td>\n",
       "    </tr>\n",
       "    <tr>\n",
       "      <th>24</th>\n",
       "      <td>Leverage Ratio</td>\n",
       "      <td>0.096825</td>\n",
       "      <td>0.090888</td>\n",
       "      <td>0.091701</td>\n",
       "      <td>0.088690</td>\n",
       "      <td>0.084798</td>\n",
       "    </tr>\n",
       "    <tr>\n",
       "      <th>25</th>\n",
       "      <td>CET-1 Ratio</td>\n",
       "      <td>0.148148</td>\n",
       "      <td>0.140188</td>\n",
       "      <td>0.136282</td>\n",
       "      <td>0.127584</td>\n",
       "      <td>0.129243</td>\n",
       "    </tr>\n",
       "    <tr>\n",
       "      <th>26</th>\n",
       "      <td>Loans to Assets Ratio</td>\n",
       "      <td>0.770100</td>\n",
       "      <td>0.767839</td>\n",
       "      <td>0.760480</td>\n",
       "      <td>0.774998</td>\n",
       "      <td>0.778805</td>\n",
       "    </tr>\n",
       "    <tr>\n",
       "      <th>27</th>\n",
       "      <td>Capital Adequacy Ratio</td>\n",
       "      <td>0.180107</td>\n",
       "      <td>0.173166</td>\n",
       "      <td>0.168401</td>\n",
       "      <td>0.164937</td>\n",
       "      <td>0.174044</td>\n",
       "    </tr>\n",
       "    <tr>\n",
       "      <th>28</th>\n",
       "      <td>Bad Loan Ratio</td>\n",
       "      <td>0.003620</td>\n",
       "      <td>0.004856</td>\n",
       "      <td>0.005108</td>\n",
       "      <td>0.004847</td>\n",
       "      <td>0.005067</td>\n",
       "    </tr>\n",
       "    <tr>\n",
       "      <th>29</th>\n",
       "      <td>Loan Loss Provision Coverage Ratio</td>\n",
       "      <td>0.884175</td>\n",
       "      <td>0.096245</td>\n",
       "      <td>0.104440</td>\n",
       "      <td>0.137763</td>\n",
       "      <td>0.129409</td>\n",
       "    </tr>\n",
       "  </tbody>\n",
       "</table>\n",
       "</div>"
      ],
      "text/plain": [
       "                      Financial Ratios       2020       2019       2018  \\\n",
       "0                        Price to Book   1.738185   1.784004   2.500447   \n",
       "1                    Price to Earnings  16.214068  13.526261  17.497536   \n",
       "2                     Return on Equity   0.104390   0.127986   0.138259   \n",
       "3           Return on Capital Employed   0.105244   0.116641   0.124674   \n",
       "4              EBITDA to Revenue Ratio   0.808750   0.801618   0.820878   \n",
       "5            EBITDA to Cash Conversion   0.893351   0.048683   0.656454   \n",
       "6             Revenue to Expense Ratio   2.596512   3.393652   1.679961   \n",
       "7                        Current Ratio   0.215517   0.214055   0.270268   \n",
       "8                           Cash Ratio   0.045239   0.033032   0.037101   \n",
       "9            Operating Cash Flow Ratio   0.038298   0.002374   0.033082   \n",
       "10               Cash Conversion Ratio   2.974201   0.157058   2.096701   \n",
       "11                      Dividend Yield   0.031553   0.037532   0.027879   \n",
       "12             Dividend Coverage Ratio   1.954618   1.969786   2.049978   \n",
       "13               Dividend Payout Ratio   0.511609   0.507669   0.487810   \n",
       "14                 Net Interest Margin   0.015996   0.017273   0.018126   \n",
       "15             Net Non-Interest Margin  -0.000500  -0.000741  -0.000812   \n",
       "16                    Return on Assets   0.010989   0.012964   0.013577   \n",
       "17                          CASA Ratio   1.283507   1.354409   1.350717   \n",
       "18           Net Bank Operating Margin   0.014180   0.022479   0.007528   \n",
       "19                   Net Profit Margin   0.347728   0.342482   0.348370   \n",
       "20                   Asset Utilization   0.031602   0.037852   0.038973   \n",
       "21                    Efficiency Ratio   0.231140   0.205411   0.200627   \n",
       "22          Operating Efficiency Ratio   0.551295   0.406151   0.806854   \n",
       "23             Credit to Deposit Ratio   0.917789   0.913314   0.910104   \n",
       "24                      Leverage Ratio   0.096825   0.090888   0.091701   \n",
       "25                         CET-1 Ratio   0.148148   0.140188   0.136282   \n",
       "26               Loans to Assets Ratio   0.770100   0.767839   0.760480   \n",
       "27              Capital Adequacy Ratio   0.180107   0.173166   0.168401   \n",
       "28                      Bad Loan Ratio   0.003620   0.004856   0.005108   \n",
       "29  Loan Loss Provision Coverage Ratio   0.884175   0.096245   0.104440   \n",
       "\n",
       "         2017       2016  \n",
       "0    2.240015   2.336864  \n",
       "1   14.543232  14.533829  \n",
       "2    0.148455   0.153959  \n",
       "3    0.128874   0.141937  \n",
       "4    0.819498   0.841076  \n",
       "5    0.488675   0.093346  \n",
       "6    1.721880   1.663774  \n",
       "7    0.271616   0.287219  \n",
       "8    0.038192   0.029769  \n",
       "9    0.024733   0.004764  \n",
       "10   1.505871   0.299630  \n",
       "11   0.029327   0.029442  \n",
       "12   2.344621   2.336997  \n",
       "13   0.426508   0.427900  \n",
       "14   0.018881   0.018335  \n",
       "15  -0.000481  -0.000661  \n",
       "16   0.014120   0.013955  \n",
       "17   1.340891   1.398996  \n",
       "18   0.008056   0.007908  \n",
       "19   0.363060   0.349589  \n",
       "20   0.038892   0.039919  \n",
       "21   0.203868   0.195769  \n",
       "22   0.792857   0.801898  \n",
       "23   0.920618   0.913528  \n",
       "24   0.088690   0.084798  \n",
       "25   0.127584   0.129243  \n",
       "26   0.774998   0.778805  \n",
       "27   0.164937   0.174044  \n",
       "28   0.004847   0.005067  \n",
       "29   0.137763   0.129409  "
      ]
     },
     "execution_count": 5,
     "metadata": {},
     "output_type": "execute_result"
    }
   ],
   "source": [
    "df = pd.read_excel(\"FA_PublicBank_Finance.xlsx\", \"output\", index_col = 0)\n",
    "df"
   ]
  },
  {
   "cell_type": "code",
   "execution_count": 6,
   "id": "compressed-briefs",
   "metadata": {},
   "outputs": [
    {
     "data": {
      "text/plain": [
       "array([2020, 2019, 2018, 2017, 2016], dtype=object)"
      ]
     },
     "execution_count": 6,
     "metadata": {},
     "output_type": "execute_result"
    }
   ],
   "source": [
    "x_val = (df.columns.values)[1:(len(df.values))]\n",
    "x_val"
   ]
  },
  {
   "cell_type": "code",
   "execution_count": 7,
   "id": "aggregate-mounting",
   "metadata": {},
   "outputs": [
    {
     "data": {
      "text/plain": [
       "array([16.21406819591831, 13.52626059626381, 17.49753570752735,\n",
       "       14.54323155000226, 14.53382908379507], dtype=object)"
      ]
     },
     "execution_count": 7,
     "metadata": {},
     "output_type": "execute_result"
    }
   ],
   "source": [
    "y_val =  ((df.loc[df[df.columns[0]] == \"Price to Earnings\"]).values[0])[1:] # Price to Earnings\n",
    "y_val"
   ]
  },
  {
   "cell_type": "code",
   "execution_count": 8,
   "id": "british-summary",
   "metadata": {},
   "outputs": [
    {
     "name": "stdout",
     "output_type": "stream",
     "text": [
      "15.262985026701362 15.262985026701362  Diff:  0.0\n"
     ]
    }
   ],
   "source": [
    "print(getMean(y_val), (y_val).mean(), \" Diff: \", getMean(y_val) - (y_val).mean())"
   ]
  },
  {
   "cell_type": "code",
   "execution_count": 9,
   "id": "focal-equation",
   "metadata": {},
   "outputs": [
    {
     "name": "stdout",
     "output_type": "stream",
     "text": [
      "2.490925285880573 2.490925285880573  Diff:  0.0\n"
     ]
    }
   ],
   "source": [
    "print(getVar(y_val, 0), np.var(y_val, ddof = 1), \" Diff: \", getVar(y_val, 0) - np.var(y_val, ddof = 1))"
   ]
  },
  {
   "cell_type": "code",
   "execution_count": 10,
   "id": "portuguese-nicholas",
   "metadata": {},
   "outputs": [
    {
     "name": "stdout",
     "output_type": "stream",
     "text": [
      "1.9927402287044582 1.9927402287044582  Diff:  0.0\n"
     ]
    }
   ],
   "source": [
    "print(getVar(y_val, 1), np.var(y_val), \" Diff: \", getVar(y_val, 1) - np.var(y_val, ddof = 0)) "
   ]
  },
  {
   "cell_type": "code",
   "execution_count": 11,
   "id": "adjusted-advertiser",
   "metadata": {},
   "outputs": [
    {
     "name": "stdout",
     "output_type": "stream",
     "text": [
      "1.5782665446243778 1.5782665446243778  Diff:  0.0\n"
     ]
    }
   ],
   "source": [
    "print(getStdDev(y_val, 0), np.std(y_val, ddof = 1), \" Diff: \", getStdDev(y_val, 0) - np.std(y_val, ddof = 1))"
   ]
  },
  {
   "cell_type": "code",
   "execution_count": 12,
   "id": "specialized-embassy",
   "metadata": {},
   "outputs": [
    {
     "name": "stdout",
     "output_type": "stream",
     "text": [
      "1.4116445121575256 1.4116445121575256  Diff:  0.0\n"
     ]
    }
   ],
   "source": [
    "print(getStdDev(y_val, 1), np.std(y_val), \" Diff: \", getStdDev(y_val, 1) - np.std(y_val))"
   ]
  }
 ],
 "metadata": {
  "kernelspec": {
   "display_name": "Python 3",
   "language": "python",
   "name": "python3"
  },
  "language_info": {
   "codemirror_mode": {
    "name": "ipython",
    "version": 3
   },
   "file_extension": ".py",
   "mimetype": "text/x-python",
   "name": "python",
   "nbconvert_exporter": "python",
   "pygments_lexer": "ipython3",
   "version": "3.8.5"
  }
 },
 "nbformat": 4,
 "nbformat_minor": 5
}
